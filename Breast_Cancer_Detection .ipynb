{
  "nbformat": 4,
  "nbformat_minor": 0,
  "metadata": {
    "colab": {
      "name": "Breast Cancer Detection.ipynb",
      "provenance": []
    },
    "kernelspec": {
      "name": "python3",
      "display_name": "Python 3"
    },
    "language_info": {
      "name": "python"
    }
  },
  "cells": [
    {
      "cell_type": "markdown",
      "metadata": {
        "id": "ysBylCTso5qI"
      },
      "source": [
        "### Importing Libraries"
      ]
    },
    {
      "cell_type": "code",
      "metadata": {
        "id": "RI0kmzcIzpE0"
      },
      "source": [
        "from sklearn.datasets import load_breast_cancer\n",
        "from sklearn.preprocessing import StandardScaler\n",
        "\n",
        "import pandas as pd \n",
        "import numpy as np\n",
        "\n",
        "from keras.models import Sequential\n",
        "from keras.layers import Dense"
      ],
      "execution_count": 1,
      "outputs": []
    },
    {
      "cell_type": "code",
      "metadata": {
        "id": "R-RkGzg94Bk2"
      },
      "source": [
        "data = load_breast_cancer()                                                     # loading the dataset"
      ],
      "execution_count": 2,
      "outputs": []
    },
    {
      "cell_type": "code",
      "metadata": {
        "colab": {
          "base_uri": "https://localhost:8080/"
        },
        "id": "Jw7bsBqH9BKH",
        "outputId": "23191a90-063f-4dee-b5f8-be04ee1e6bdf"
      },
      "source": [
        "data                                                                            # printing the dataset"
      ],
      "execution_count": 3,
      "outputs": [
        {
          "output_type": "execute_result",
          "data": {
            "text/plain": [
              "{'DESCR': '.. _breast_cancer_dataset:\\n\\nBreast cancer wisconsin (diagnostic) dataset\\n--------------------------------------------\\n\\n**Data Set Characteristics:**\\n\\n    :Number of Instances: 569\\n\\n    :Number of Attributes: 30 numeric, predictive attributes and the class\\n\\n    :Attribute Information:\\n        - radius (mean of distances from center to points on the perimeter)\\n        - texture (standard deviation of gray-scale values)\\n        - perimeter\\n        - area\\n        - smoothness (local variation in radius lengths)\\n        - compactness (perimeter^2 / area - 1.0)\\n        - concavity (severity of concave portions of the contour)\\n        - concave points (number of concave portions of the contour)\\n        - symmetry \\n        - fractal dimension (\"coastline approximation\" - 1)\\n\\n        The mean, standard error, and \"worst\" or largest (mean of the three\\n        largest values) of these features were computed for each image,\\n        resulting in 30 features.  For instance, field 3 is Mean Radius, field\\n        13 is Radius SE, field 23 is Worst Radius.\\n\\n        - class:\\n                - WDBC-Malignant\\n                - WDBC-Benign\\n\\n    :Summary Statistics:\\n\\n    ===================================== ====== ======\\n                                           Min    Max\\n    ===================================== ====== ======\\n    radius (mean):                        6.981  28.11\\n    texture (mean):                       9.71   39.28\\n    perimeter (mean):                     43.79  188.5\\n    area (mean):                          143.5  2501.0\\n    smoothness (mean):                    0.053  0.163\\n    compactness (mean):                   0.019  0.345\\n    concavity (mean):                     0.0    0.427\\n    concave points (mean):                0.0    0.201\\n    symmetry (mean):                      0.106  0.304\\n    fractal dimension (mean):             0.05   0.097\\n    radius (standard error):              0.112  2.873\\n    texture (standard error):             0.36   4.885\\n    perimeter (standard error):           0.757  21.98\\n    area (standard error):                6.802  542.2\\n    smoothness (standard error):          0.002  0.031\\n    compactness (standard error):         0.002  0.135\\n    concavity (standard error):           0.0    0.396\\n    concave points (standard error):      0.0    0.053\\n    symmetry (standard error):            0.008  0.079\\n    fractal dimension (standard error):   0.001  0.03\\n    radius (worst):                       7.93   36.04\\n    texture (worst):                      12.02  49.54\\n    perimeter (worst):                    50.41  251.2\\n    area (worst):                         185.2  4254.0\\n    smoothness (worst):                   0.071  0.223\\n    compactness (worst):                  0.027  1.058\\n    concavity (worst):                    0.0    1.252\\n    concave points (worst):               0.0    0.291\\n    symmetry (worst):                     0.156  0.664\\n    fractal dimension (worst):            0.055  0.208\\n    ===================================== ====== ======\\n\\n    :Missing Attribute Values: None\\n\\n    :Class Distribution: 212 - Malignant, 357 - Benign\\n\\n    :Creator:  Dr. William H. Wolberg, W. Nick Street, Olvi L. Mangasarian\\n\\n    :Donor: Nick Street\\n\\n    :Date: November, 1995\\n\\nThis is a copy of UCI ML Breast Cancer Wisconsin (Diagnostic) datasets.\\nhttps://goo.gl/U2Uwz2\\n\\nFeatures are computed from a digitized image of a fine needle\\naspirate (FNA) of a breast mass.  They describe\\ncharacteristics of the cell nuclei present in the image.\\n\\nSeparating plane described above was obtained using\\nMultisurface Method-Tree (MSM-T) [K. P. Bennett, \"Decision Tree\\nConstruction Via Linear Programming.\" Proceedings of the 4th\\nMidwest Artificial Intelligence and Cognitive Science Society,\\npp. 97-101, 1992], a classification method which uses linear\\nprogramming to construct a decision tree.  Relevant features\\nwere selected using an exhaustive search in the space of 1-4\\nfeatures and 1-3 separating planes.\\n\\nThe actual linear program used to obtain the separating plane\\nin the 3-dimensional space is that described in:\\n[K. P. Bennett and O. L. Mangasarian: \"Robust Linear\\nProgramming Discrimination of Two Linearly Inseparable Sets\",\\nOptimization Methods and Software 1, 1992, 23-34].\\n\\nThis database is also available through the UW CS ftp server:\\n\\nftp ftp.cs.wisc.edu\\ncd math-prog/cpo-dataset/machine-learn/WDBC/\\n\\n.. topic:: References\\n\\n   - W.N. Street, W.H. Wolberg and O.L. Mangasarian. Nuclear feature extraction \\n     for breast tumor diagnosis. IS&T/SPIE 1993 International Symposium on \\n     Electronic Imaging: Science and Technology, volume 1905, pages 861-870,\\n     San Jose, CA, 1993.\\n   - O.L. Mangasarian, W.N. Street and W.H. Wolberg. Breast cancer diagnosis and \\n     prognosis via linear programming. Operations Research, 43(4), pages 570-577, \\n     July-August 1995.\\n   - W.H. Wolberg, W.N. Street, and O.L. Mangasarian. Machine learning techniques\\n     to diagnose breast cancer from fine-needle aspirates. Cancer Letters 77 (1994) \\n     163-171.',\n",
              " 'data': array([[1.799e+01, 1.038e+01, 1.228e+02, ..., 2.654e-01, 4.601e-01,\n",
              "         1.189e-01],\n",
              "        [2.057e+01, 1.777e+01, 1.329e+02, ..., 1.860e-01, 2.750e-01,\n",
              "         8.902e-02],\n",
              "        [1.969e+01, 2.125e+01, 1.300e+02, ..., 2.430e-01, 3.613e-01,\n",
              "         8.758e-02],\n",
              "        ...,\n",
              "        [1.660e+01, 2.808e+01, 1.083e+02, ..., 1.418e-01, 2.218e-01,\n",
              "         7.820e-02],\n",
              "        [2.060e+01, 2.933e+01, 1.401e+02, ..., 2.650e-01, 4.087e-01,\n",
              "         1.240e-01],\n",
              "        [7.760e+00, 2.454e+01, 4.792e+01, ..., 0.000e+00, 2.871e-01,\n",
              "         7.039e-02]]),\n",
              " 'feature_names': array(['mean radius', 'mean texture', 'mean perimeter', 'mean area',\n",
              "        'mean smoothness', 'mean compactness', 'mean concavity',\n",
              "        'mean concave points', 'mean symmetry', 'mean fractal dimension',\n",
              "        'radius error', 'texture error', 'perimeter error', 'area error',\n",
              "        'smoothness error', 'compactness error', 'concavity error',\n",
              "        'concave points error', 'symmetry error',\n",
              "        'fractal dimension error', 'worst radius', 'worst texture',\n",
              "        'worst perimeter', 'worst area', 'worst smoothness',\n",
              "        'worst compactness', 'worst concavity', 'worst concave points',\n",
              "        'worst symmetry', 'worst fractal dimension'], dtype='<U23'),\n",
              " 'filename': '/usr/local/lib/python3.7/dist-packages/sklearn/datasets/data/breast_cancer.csv',\n",
              " 'target': array([0, 0, 0, 0, 0, 0, 0, 0, 0, 0, 0, 0, 0, 0, 0, 0, 0, 0, 0, 1, 1, 1,\n",
              "        0, 0, 0, 0, 0, 0, 0, 0, 0, 0, 0, 0, 0, 0, 0, 1, 0, 0, 0, 0, 0, 0,\n",
              "        0, 0, 1, 0, 1, 1, 1, 1, 1, 0, 0, 1, 0, 0, 1, 1, 1, 1, 0, 1, 0, 0,\n",
              "        1, 1, 1, 1, 0, 1, 0, 0, 1, 0, 1, 0, 0, 1, 1, 1, 0, 0, 1, 0, 0, 0,\n",
              "        1, 1, 1, 0, 1, 1, 0, 0, 1, 1, 1, 0, 0, 1, 1, 1, 1, 0, 1, 1, 0, 1,\n",
              "        1, 1, 1, 1, 1, 1, 1, 0, 0, 0, 1, 0, 0, 1, 1, 1, 0, 0, 1, 0, 1, 0,\n",
              "        0, 1, 0, 0, 1, 1, 0, 1, 1, 0, 1, 1, 1, 1, 0, 1, 1, 1, 1, 1, 1, 1,\n",
              "        1, 1, 0, 1, 1, 1, 1, 0, 0, 1, 0, 1, 1, 0, 0, 1, 1, 0, 0, 1, 1, 1,\n",
              "        1, 0, 1, 1, 0, 0, 0, 1, 0, 1, 0, 1, 1, 1, 0, 1, 1, 0, 0, 1, 0, 0,\n",
              "        0, 0, 1, 0, 0, 0, 1, 0, 1, 0, 1, 1, 0, 1, 0, 0, 0, 0, 1, 1, 0, 0,\n",
              "        1, 1, 1, 0, 1, 1, 1, 1, 1, 0, 0, 1, 1, 0, 1, 1, 0, 0, 1, 0, 1, 1,\n",
              "        1, 1, 0, 1, 1, 1, 1, 1, 0, 1, 0, 0, 0, 0, 0, 0, 0, 0, 0, 0, 0, 0,\n",
              "        0, 0, 1, 1, 1, 1, 1, 1, 0, 1, 0, 1, 1, 0, 1, 1, 0, 1, 0, 0, 1, 1,\n",
              "        1, 1, 1, 1, 1, 1, 1, 1, 1, 1, 1, 0, 1, 1, 0, 1, 0, 1, 1, 1, 1, 1,\n",
              "        1, 1, 1, 1, 1, 1, 1, 1, 1, 0, 1, 1, 1, 0, 1, 0, 1, 1, 1, 1, 0, 0,\n",
              "        0, 1, 1, 1, 1, 0, 1, 0, 1, 0, 1, 1, 1, 0, 1, 1, 1, 1, 1, 1, 1, 0,\n",
              "        0, 0, 1, 1, 1, 1, 1, 1, 1, 1, 1, 1, 1, 0, 0, 1, 0, 0, 0, 1, 0, 0,\n",
              "        1, 1, 1, 1, 1, 0, 1, 1, 1, 1, 1, 0, 1, 1, 1, 0, 1, 1, 0, 0, 1, 1,\n",
              "        1, 1, 1, 1, 0, 1, 1, 1, 1, 1, 1, 1, 0, 1, 1, 1, 1, 1, 0, 1, 1, 0,\n",
              "        1, 1, 1, 1, 1, 1, 1, 1, 1, 1, 1, 1, 0, 1, 0, 0, 1, 0, 1, 1, 1, 1,\n",
              "        1, 0, 1, 1, 0, 1, 0, 1, 1, 0, 1, 0, 1, 1, 1, 1, 1, 1, 1, 1, 0, 0,\n",
              "        1, 1, 1, 1, 1, 1, 0, 1, 1, 1, 1, 1, 1, 1, 1, 1, 1, 0, 1, 1, 1, 1,\n",
              "        1, 1, 1, 0, 1, 0, 1, 1, 0, 1, 1, 1, 1, 1, 0, 0, 1, 0, 1, 0, 1, 1,\n",
              "        1, 1, 1, 0, 1, 1, 0, 1, 0, 1, 0, 0, 1, 1, 1, 0, 1, 1, 1, 1, 1, 1,\n",
              "        1, 1, 1, 1, 1, 0, 1, 0, 0, 1, 1, 1, 1, 1, 1, 1, 1, 1, 1, 1, 1, 1,\n",
              "        1, 1, 1, 1, 1, 1, 1, 1, 1, 1, 1, 1, 0, 0, 0, 0, 0, 0, 1]),\n",
              " 'target_names': array(['malignant', 'benign'], dtype='<U9')}"
            ]
          },
          "metadata": {},
          "execution_count": 3
        }
      ]
    },
    {
      "cell_type": "code",
      "metadata": {
        "colab": {
          "base_uri": "https://localhost:8080/"
        },
        "id": "oCY8_MKA9CdO",
        "outputId": "8e00eb8c-22d2-40e5-ab81-609c04891993"
      },
      "source": [
        "data.keys()                                                                     # printing the keys of dataset"
      ],
      "execution_count": 4,
      "outputs": [
        {
          "output_type": "execute_result",
          "data": {
            "text/plain": [
              "dict_keys(['data', 'target', 'target_names', 'DESCR', 'feature_names', 'filename'])"
            ]
          },
          "metadata": {},
          "execution_count": 4
        }
      ]
    },
    {
      "cell_type": "markdown",
      "metadata": {
        "id": "jIR9HjvhsnVj"
      },
      "source": [
        "### Printing the value of every key of the data dataset"
      ]
    },
    {
      "cell_type": "code",
      "metadata": {
        "colab": {
          "base_uri": "https://localhost:8080/"
        },
        "id": "PlphTPoH9Guh",
        "outputId": "f4ff1093-a1a3-4b0e-e9b6-cc7436b3637e"
      },
      "source": [
        "print(data['DESCR'])                                                            # Reading out the DESCR key"
      ],
      "execution_count": 5,
      "outputs": [
        {
          "output_type": "stream",
          "name": "stdout",
          "text": [
            ".. _breast_cancer_dataset:\n",
            "\n",
            "Breast cancer wisconsin (diagnostic) dataset\n",
            "--------------------------------------------\n",
            "\n",
            "**Data Set Characteristics:**\n",
            "\n",
            "    :Number of Instances: 569\n",
            "\n",
            "    :Number of Attributes: 30 numeric, predictive attributes and the class\n",
            "\n",
            "    :Attribute Information:\n",
            "        - radius (mean of distances from center to points on the perimeter)\n",
            "        - texture (standard deviation of gray-scale values)\n",
            "        - perimeter\n",
            "        - area\n",
            "        - smoothness (local variation in radius lengths)\n",
            "        - compactness (perimeter^2 / area - 1.0)\n",
            "        - concavity (severity of concave portions of the contour)\n",
            "        - concave points (number of concave portions of the contour)\n",
            "        - symmetry \n",
            "        - fractal dimension (\"coastline approximation\" - 1)\n",
            "\n",
            "        The mean, standard error, and \"worst\" or largest (mean of the three\n",
            "        largest values) of these features were computed for each image,\n",
            "        resulting in 30 features.  For instance, field 3 is Mean Radius, field\n",
            "        13 is Radius SE, field 23 is Worst Radius.\n",
            "\n",
            "        - class:\n",
            "                - WDBC-Malignant\n",
            "                - WDBC-Benign\n",
            "\n",
            "    :Summary Statistics:\n",
            "\n",
            "    ===================================== ====== ======\n",
            "                                           Min    Max\n",
            "    ===================================== ====== ======\n",
            "    radius (mean):                        6.981  28.11\n",
            "    texture (mean):                       9.71   39.28\n",
            "    perimeter (mean):                     43.79  188.5\n",
            "    area (mean):                          143.5  2501.0\n",
            "    smoothness (mean):                    0.053  0.163\n",
            "    compactness (mean):                   0.019  0.345\n",
            "    concavity (mean):                     0.0    0.427\n",
            "    concave points (mean):                0.0    0.201\n",
            "    symmetry (mean):                      0.106  0.304\n",
            "    fractal dimension (mean):             0.05   0.097\n",
            "    radius (standard error):              0.112  2.873\n",
            "    texture (standard error):             0.36   4.885\n",
            "    perimeter (standard error):           0.757  21.98\n",
            "    area (standard error):                6.802  542.2\n",
            "    smoothness (standard error):          0.002  0.031\n",
            "    compactness (standard error):         0.002  0.135\n",
            "    concavity (standard error):           0.0    0.396\n",
            "    concave points (standard error):      0.0    0.053\n",
            "    symmetry (standard error):            0.008  0.079\n",
            "    fractal dimension (standard error):   0.001  0.03\n",
            "    radius (worst):                       7.93   36.04\n",
            "    texture (worst):                      12.02  49.54\n",
            "    perimeter (worst):                    50.41  251.2\n",
            "    area (worst):                         185.2  4254.0\n",
            "    smoothness (worst):                   0.071  0.223\n",
            "    compactness (worst):                  0.027  1.058\n",
            "    concavity (worst):                    0.0    1.252\n",
            "    concave points (worst):               0.0    0.291\n",
            "    symmetry (worst):                     0.156  0.664\n",
            "    fractal dimension (worst):            0.055  0.208\n",
            "    ===================================== ====== ======\n",
            "\n",
            "    :Missing Attribute Values: None\n",
            "\n",
            "    :Class Distribution: 212 - Malignant, 357 - Benign\n",
            "\n",
            "    :Creator:  Dr. William H. Wolberg, W. Nick Street, Olvi L. Mangasarian\n",
            "\n",
            "    :Donor: Nick Street\n",
            "\n",
            "    :Date: November, 1995\n",
            "\n",
            "This is a copy of UCI ML Breast Cancer Wisconsin (Diagnostic) datasets.\n",
            "https://goo.gl/U2Uwz2\n",
            "\n",
            "Features are computed from a digitized image of a fine needle\n",
            "aspirate (FNA) of a breast mass.  They describe\n",
            "characteristics of the cell nuclei present in the image.\n",
            "\n",
            "Separating plane described above was obtained using\n",
            "Multisurface Method-Tree (MSM-T) [K. P. Bennett, \"Decision Tree\n",
            "Construction Via Linear Programming.\" Proceedings of the 4th\n",
            "Midwest Artificial Intelligence and Cognitive Science Society,\n",
            "pp. 97-101, 1992], a classification method which uses linear\n",
            "programming to construct a decision tree.  Relevant features\n",
            "were selected using an exhaustive search in the space of 1-4\n",
            "features and 1-3 separating planes.\n",
            "\n",
            "The actual linear program used to obtain the separating plane\n",
            "in the 3-dimensional space is that described in:\n",
            "[K. P. Bennett and O. L. Mangasarian: \"Robust Linear\n",
            "Programming Discrimination of Two Linearly Inseparable Sets\",\n",
            "Optimization Methods and Software 1, 1992, 23-34].\n",
            "\n",
            "This database is also available through the UW CS ftp server:\n",
            "\n",
            "ftp ftp.cs.wisc.edu\n",
            "cd math-prog/cpo-dataset/machine-learn/WDBC/\n",
            "\n",
            ".. topic:: References\n",
            "\n",
            "   - W.N. Street, W.H. Wolberg and O.L. Mangasarian. Nuclear feature extraction \n",
            "     for breast tumor diagnosis. IS&T/SPIE 1993 International Symposium on \n",
            "     Electronic Imaging: Science and Technology, volume 1905, pages 861-870,\n",
            "     San Jose, CA, 1993.\n",
            "   - O.L. Mangasarian, W.N. Street and W.H. Wolberg. Breast cancer diagnosis and \n",
            "     prognosis via linear programming. Operations Research, 43(4), pages 570-577, \n",
            "     July-August 1995.\n",
            "   - W.H. Wolberg, W.N. Street, and O.L. Mangasarian. Machine learning techniques\n",
            "     to diagnose breast cancer from fine-needle aspirates. Cancer Letters 77 (1994) \n",
            "     163-171.\n"
          ]
        }
      ]
    },
    {
      "cell_type": "code",
      "metadata": {
        "colab": {
          "base_uri": "https://localhost:8080/"
        },
        "id": "_GWjIYnaqFdM",
        "outputId": "b9158d51-99bb-4edd-e2c4-60a75d13fd04"
      },
      "source": [
        "print(data['data'])                                                             # Reading out the data key of the dataset\n",
        "print(data['data'].shape)                                                       # Printing the shape of the data i.e 569 instances and 30 attributes of each instance"
      ],
      "execution_count": 6,
      "outputs": [
        {
          "output_type": "stream",
          "name": "stdout",
          "text": [
            "[[1.799e+01 1.038e+01 1.228e+02 ... 2.654e-01 4.601e-01 1.189e-01]\n",
            " [2.057e+01 1.777e+01 1.329e+02 ... 1.860e-01 2.750e-01 8.902e-02]\n",
            " [1.969e+01 2.125e+01 1.300e+02 ... 2.430e-01 3.613e-01 8.758e-02]\n",
            " ...\n",
            " [1.660e+01 2.808e+01 1.083e+02 ... 1.418e-01 2.218e-01 7.820e-02]\n",
            " [2.060e+01 2.933e+01 1.401e+02 ... 2.650e-01 4.087e-01 1.240e-01]\n",
            " [7.760e+00 2.454e+01 4.792e+01 ... 0.000e+00 2.871e-01 7.039e-02]]\n",
            "(569, 30)\n"
          ]
        }
      ]
    },
    {
      "cell_type": "code",
      "metadata": {
        "colab": {
          "base_uri": "https://localhost:8080/"
        },
        "id": "OUBeoK_zqFi9",
        "outputId": "82b15175-f8f0-476d-84b4-aa8426625067"
      },
      "source": [
        "print(data['feature_names'])                                                    # Reading out the 30 features dataset\n",
        "print(len(data['feature_names']))"
      ],
      "execution_count": 7,
      "outputs": [
        {
          "output_type": "stream",
          "name": "stdout",
          "text": [
            "['mean radius' 'mean texture' 'mean perimeter' 'mean area'\n",
            " 'mean smoothness' 'mean compactness' 'mean concavity'\n",
            " 'mean concave points' 'mean symmetry' 'mean fractal dimension'\n",
            " 'radius error' 'texture error' 'perimeter error' 'area error'\n",
            " 'smoothness error' 'compactness error' 'concavity error'\n",
            " 'concave points error' 'symmetry error' 'fractal dimension error'\n",
            " 'worst radius' 'worst texture' 'worst perimeter' 'worst area'\n",
            " 'worst smoothness' 'worst compactness' 'worst concavity'\n",
            " 'worst concave points' 'worst symmetry' 'worst fractal dimension']\n",
            "30\n"
          ]
        }
      ]
    },
    {
      "cell_type": "code",
      "metadata": {
        "colab": {
          "base_uri": "https://localhost:8080/"
        },
        "id": "uvTYhk4FqFl6",
        "outputId": "b3e78fcf-9975-4b3d-95aa-c487c8ce744d"
      },
      "source": [
        "print(data['target'])                                                           # printing the target of each instance "
      ],
      "execution_count": 8,
      "outputs": [
        {
          "output_type": "stream",
          "name": "stdout",
          "text": [
            "[0 0 0 0 0 0 0 0 0 0 0 0 0 0 0 0 0 0 0 1 1 1 0 0 0 0 0 0 0 0 0 0 0 0 0 0 0\n",
            " 1 0 0 0 0 0 0 0 0 1 0 1 1 1 1 1 0 0 1 0 0 1 1 1 1 0 1 0 0 1 1 1 1 0 1 0 0\n",
            " 1 0 1 0 0 1 1 1 0 0 1 0 0 0 1 1 1 0 1 1 0 0 1 1 1 0 0 1 1 1 1 0 1 1 0 1 1\n",
            " 1 1 1 1 1 1 0 0 0 1 0 0 1 1 1 0 0 1 0 1 0 0 1 0 0 1 1 0 1 1 0 1 1 1 1 0 1\n",
            " 1 1 1 1 1 1 1 1 0 1 1 1 1 0 0 1 0 1 1 0 0 1 1 0 0 1 1 1 1 0 1 1 0 0 0 1 0\n",
            " 1 0 1 1 1 0 1 1 0 0 1 0 0 0 0 1 0 0 0 1 0 1 0 1 1 0 1 0 0 0 0 1 1 0 0 1 1\n",
            " 1 0 1 1 1 1 1 0 0 1 1 0 1 1 0 0 1 0 1 1 1 1 0 1 1 1 1 1 0 1 0 0 0 0 0 0 0\n",
            " 0 0 0 0 0 0 0 1 1 1 1 1 1 0 1 0 1 1 0 1 1 0 1 0 0 1 1 1 1 1 1 1 1 1 1 1 1\n",
            " 1 0 1 1 0 1 0 1 1 1 1 1 1 1 1 1 1 1 1 1 1 0 1 1 1 0 1 0 1 1 1 1 0 0 0 1 1\n",
            " 1 1 0 1 0 1 0 1 1 1 0 1 1 1 1 1 1 1 0 0 0 1 1 1 1 1 1 1 1 1 1 1 0 0 1 0 0\n",
            " 0 1 0 0 1 1 1 1 1 0 1 1 1 1 1 0 1 1 1 0 1 1 0 0 1 1 1 1 1 1 0 1 1 1 1 1 1\n",
            " 1 0 1 1 1 1 1 0 1 1 0 1 1 1 1 1 1 1 1 1 1 1 1 0 1 0 0 1 0 1 1 1 1 1 0 1 1\n",
            " 0 1 0 1 1 0 1 0 1 1 1 1 1 1 1 1 0 0 1 1 1 1 1 1 0 1 1 1 1 1 1 1 1 1 1 0 1\n",
            " 1 1 1 1 1 1 0 1 0 1 1 0 1 1 1 1 1 0 0 1 0 1 0 1 1 1 1 1 0 1 1 0 1 0 1 0 0\n",
            " 1 1 1 0 1 1 1 1 1 1 1 1 1 1 1 0 1 0 0 1 1 1 1 1 1 1 1 1 1 1 1 1 1 1 1 1 1\n",
            " 1 1 1 1 1 1 1 0 0 0 0 0 0 1]\n"
          ]
        }
      ]
    },
    {
      "cell_type": "code",
      "metadata": {
        "colab": {
          "base_uri": "https://localhost:8080/"
        },
        "id": "hoVZvfSHqFqV",
        "outputId": "fdd8366c-a1d8-44d9-bbe1-643d12c6cc03"
      },
      "source": [
        "print(data['target_names'])                                                     # Reading out the target names \n",
        "                                                                                # 0 for malignant and 1 for benign"
      ],
      "execution_count": 9,
      "outputs": [
        {
          "output_type": "stream",
          "name": "stdout",
          "text": [
            "['malignant' 'benign']\n"
          ]
        }
      ]
    },
    {
      "cell_type": "code",
      "metadata": {
        "colab": {
          "base_uri": "https://localhost:8080/"
        },
        "id": "6nfOXGsysJXr",
        "outputId": "b6a876d3-5ce1-4a4c-ae4f-25b1b48029a7"
      },
      "source": [
        "print(data['filename'])                                                         # finding out the path of the library used"
      ],
      "execution_count": 10,
      "outputs": [
        {
          "output_type": "stream",
          "name": "stdout",
          "text": [
            "/usr/local/lib/python3.7/dist-packages/sklearn/datasets/data/breast_cancer.csv\n"
          ]
        }
      ]
    },
    {
      "cell_type": "code",
      "metadata": {
        "colab": {
          "base_uri": "https://localhost:8080/"
        },
        "id": "KuaiyrDatHgt",
        "outputId": "9c3ed669-e04f-4a77-8a8a-95d15fdbbebe"
      },
      "source": [
        "j=0                                                                             # printing the original values of the first instance with their corresponding feature names \n",
        "for i in data['feature_names']:\n",
        "  print(i , data['data'][0][j])\n",
        "  j += 1"
      ],
      "execution_count": 11,
      "outputs": [
        {
          "output_type": "stream",
          "name": "stdout",
          "text": [
            "mean radius 17.99\n",
            "mean texture 10.38\n",
            "mean perimeter 122.8\n",
            "mean area 1001.0\n",
            "mean smoothness 0.1184\n",
            "mean compactness 0.2776\n",
            "mean concavity 0.3001\n",
            "mean concave points 0.1471\n",
            "mean symmetry 0.2419\n",
            "mean fractal dimension 0.07871\n",
            "radius error 1.095\n",
            "texture error 0.9053\n",
            "perimeter error 8.589\n",
            "area error 153.4\n",
            "smoothness error 0.006399\n",
            "compactness error 0.04904\n",
            "concavity error 0.05373\n",
            "concave points error 0.01587\n",
            "symmetry error 0.03003\n",
            "fractal dimension error 0.006193\n",
            "worst radius 25.38\n",
            "worst texture 17.33\n",
            "worst perimeter 184.6\n",
            "worst area 2019.0\n",
            "worst smoothness 0.1622\n",
            "worst compactness 0.6656\n",
            "worst concavity 0.7119\n",
            "worst concave points 0.2654\n",
            "worst symmetry 0.4601\n",
            "worst fractal dimension 0.1189\n"
          ]
        }
      ]
    },
    {
      "cell_type": "code",
      "metadata": {
        "id": "d2IfkcNJ2ww1"
      },
      "source": [
        "feature = data['data']                                                          # naming the data as the features of the model\n",
        "label = data['target']                                                          # naming the target as the labels of the model"
      ],
      "execution_count": 12,
      "outputs": []
    },
    {
      "cell_type": "code",
      "metadata": {
        "colab": {
          "base_uri": "https://localhost:8080/",
          "height": 470
        },
        "id": "Eu93wCwT2w4M",
        "outputId": "8088f515-b5da-487f-fd9b-d4674da58f8d"
      },
      "source": [
        "df1 = pd.DataFrame(feature , columns=data['feature_names'])                     \n",
        "df2 = pd.DataFrame(label , columns=['target'])\n",
        "df = pd.concat([df1,df2] , axis = 1)                                            # joining the two dataframes , one of feature and other of label\n",
        "df = df.sample(frac = 1)                                                        # shuffling the dataframe \n",
        "df                                                                              # printing the dataframe "
      ],
      "execution_count": 13,
      "outputs": [
        {
          "output_type": "execute_result",
          "data": {
            "text/html": [
              "<div>\n",
              "<style scoped>\n",
              "    .dataframe tbody tr th:only-of-type {\n",
              "        vertical-align: middle;\n",
              "    }\n",
              "\n",
              "    .dataframe tbody tr th {\n",
              "        vertical-align: top;\n",
              "    }\n",
              "\n",
              "    .dataframe thead th {\n",
              "        text-align: right;\n",
              "    }\n",
              "</style>\n",
              "<table border=\"1\" class=\"dataframe\">\n",
              "  <thead>\n",
              "    <tr style=\"text-align: right;\">\n",
              "      <th></th>\n",
              "      <th>mean radius</th>\n",
              "      <th>mean texture</th>\n",
              "      <th>mean perimeter</th>\n",
              "      <th>mean area</th>\n",
              "      <th>mean smoothness</th>\n",
              "      <th>mean compactness</th>\n",
              "      <th>mean concavity</th>\n",
              "      <th>mean concave points</th>\n",
              "      <th>mean symmetry</th>\n",
              "      <th>mean fractal dimension</th>\n",
              "      <th>radius error</th>\n",
              "      <th>texture error</th>\n",
              "      <th>perimeter error</th>\n",
              "      <th>area error</th>\n",
              "      <th>smoothness error</th>\n",
              "      <th>compactness error</th>\n",
              "      <th>concavity error</th>\n",
              "      <th>concave points error</th>\n",
              "      <th>symmetry error</th>\n",
              "      <th>fractal dimension error</th>\n",
              "      <th>worst radius</th>\n",
              "      <th>worst texture</th>\n",
              "      <th>worst perimeter</th>\n",
              "      <th>worst area</th>\n",
              "      <th>worst smoothness</th>\n",
              "      <th>worst compactness</th>\n",
              "      <th>worst concavity</th>\n",
              "      <th>worst concave points</th>\n",
              "      <th>worst symmetry</th>\n",
              "      <th>worst fractal dimension</th>\n",
              "      <th>target</th>\n",
              "    </tr>\n",
              "  </thead>\n",
              "  <tbody>\n",
              "    <tr>\n",
              "      <th>388</th>\n",
              "      <td>11.27</td>\n",
              "      <td>15.50</td>\n",
              "      <td>73.38</td>\n",
              "      <td>392.0</td>\n",
              "      <td>0.08365</td>\n",
              "      <td>0.11140</td>\n",
              "      <td>0.10070</td>\n",
              "      <td>0.02757</td>\n",
              "      <td>0.1810</td>\n",
              "      <td>0.07252</td>\n",
              "      <td>0.3305</td>\n",
              "      <td>1.0670</td>\n",
              "      <td>2.569</td>\n",
              "      <td>22.97</td>\n",
              "      <td>0.010380</td>\n",
              "      <td>0.06669</td>\n",
              "      <td>0.094720</td>\n",
              "      <td>0.020470</td>\n",
              "      <td>0.01219</td>\n",
              "      <td>0.012330</td>\n",
              "      <td>12.04</td>\n",
              "      <td>18.93</td>\n",
              "      <td>79.73</td>\n",
              "      <td>450.0</td>\n",
              "      <td>0.1102</td>\n",
              "      <td>0.2809</td>\n",
              "      <td>0.30210</td>\n",
              "      <td>0.08272</td>\n",
              "      <td>0.2157</td>\n",
              "      <td>0.10430</td>\n",
              "      <td>1</td>\n",
              "    </tr>\n",
              "    <tr>\n",
              "      <th>115</th>\n",
              "      <td>11.93</td>\n",
              "      <td>21.53</td>\n",
              "      <td>76.53</td>\n",
              "      <td>438.6</td>\n",
              "      <td>0.09768</td>\n",
              "      <td>0.07849</td>\n",
              "      <td>0.03328</td>\n",
              "      <td>0.02008</td>\n",
              "      <td>0.1688</td>\n",
              "      <td>0.06194</td>\n",
              "      <td>0.3118</td>\n",
              "      <td>0.9227</td>\n",
              "      <td>2.000</td>\n",
              "      <td>24.79</td>\n",
              "      <td>0.007803</td>\n",
              "      <td>0.02507</td>\n",
              "      <td>0.018350</td>\n",
              "      <td>0.007711</td>\n",
              "      <td>0.01278</td>\n",
              "      <td>0.003856</td>\n",
              "      <td>13.67</td>\n",
              "      <td>26.15</td>\n",
              "      <td>87.54</td>\n",
              "      <td>583.0</td>\n",
              "      <td>0.1500</td>\n",
              "      <td>0.2399</td>\n",
              "      <td>0.15030</td>\n",
              "      <td>0.07247</td>\n",
              "      <td>0.2438</td>\n",
              "      <td>0.08541</td>\n",
              "      <td>1</td>\n",
              "    </tr>\n",
              "    <tr>\n",
              "      <th>438</th>\n",
              "      <td>13.85</td>\n",
              "      <td>19.60</td>\n",
              "      <td>88.68</td>\n",
              "      <td>592.6</td>\n",
              "      <td>0.08684</td>\n",
              "      <td>0.06330</td>\n",
              "      <td>0.01342</td>\n",
              "      <td>0.02293</td>\n",
              "      <td>0.1555</td>\n",
              "      <td>0.05673</td>\n",
              "      <td>0.3419</td>\n",
              "      <td>1.6780</td>\n",
              "      <td>2.331</td>\n",
              "      <td>29.63</td>\n",
              "      <td>0.005836</td>\n",
              "      <td>0.01095</td>\n",
              "      <td>0.005812</td>\n",
              "      <td>0.007039</td>\n",
              "      <td>0.02014</td>\n",
              "      <td>0.002326</td>\n",
              "      <td>15.63</td>\n",
              "      <td>28.01</td>\n",
              "      <td>100.90</td>\n",
              "      <td>749.1</td>\n",
              "      <td>0.1118</td>\n",
              "      <td>0.1141</td>\n",
              "      <td>0.04753</td>\n",
              "      <td>0.05890</td>\n",
              "      <td>0.2513</td>\n",
              "      <td>0.06911</td>\n",
              "      <td>1</td>\n",
              "    </tr>\n",
              "    <tr>\n",
              "      <th>552</th>\n",
              "      <td>12.77</td>\n",
              "      <td>29.43</td>\n",
              "      <td>81.35</td>\n",
              "      <td>507.9</td>\n",
              "      <td>0.08276</td>\n",
              "      <td>0.04234</td>\n",
              "      <td>0.01997</td>\n",
              "      <td>0.01499</td>\n",
              "      <td>0.1539</td>\n",
              "      <td>0.05637</td>\n",
              "      <td>0.2409</td>\n",
              "      <td>1.3670</td>\n",
              "      <td>1.477</td>\n",
              "      <td>18.76</td>\n",
              "      <td>0.008835</td>\n",
              "      <td>0.01233</td>\n",
              "      <td>0.013280</td>\n",
              "      <td>0.009305</td>\n",
              "      <td>0.01897</td>\n",
              "      <td>0.001726</td>\n",
              "      <td>13.87</td>\n",
              "      <td>36.00</td>\n",
              "      <td>88.10</td>\n",
              "      <td>594.7</td>\n",
              "      <td>0.1234</td>\n",
              "      <td>0.1064</td>\n",
              "      <td>0.08653</td>\n",
              "      <td>0.06498</td>\n",
              "      <td>0.2407</td>\n",
              "      <td>0.06484</td>\n",
              "      <td>1</td>\n",
              "    </tr>\n",
              "    <tr>\n",
              "      <th>91</th>\n",
              "      <td>15.37</td>\n",
              "      <td>22.76</td>\n",
              "      <td>100.20</td>\n",
              "      <td>728.2</td>\n",
              "      <td>0.09200</td>\n",
              "      <td>0.10360</td>\n",
              "      <td>0.11220</td>\n",
              "      <td>0.07483</td>\n",
              "      <td>0.1717</td>\n",
              "      <td>0.06097</td>\n",
              "      <td>0.3129</td>\n",
              "      <td>0.8413</td>\n",
              "      <td>2.075</td>\n",
              "      <td>29.44</td>\n",
              "      <td>0.009882</td>\n",
              "      <td>0.02444</td>\n",
              "      <td>0.045310</td>\n",
              "      <td>0.017630</td>\n",
              "      <td>0.02471</td>\n",
              "      <td>0.002142</td>\n",
              "      <td>16.43</td>\n",
              "      <td>25.84</td>\n",
              "      <td>107.50</td>\n",
              "      <td>830.9</td>\n",
              "      <td>0.1257</td>\n",
              "      <td>0.1997</td>\n",
              "      <td>0.28460</td>\n",
              "      <td>0.14760</td>\n",
              "      <td>0.2556</td>\n",
              "      <td>0.06828</td>\n",
              "      <td>0</td>\n",
              "    </tr>\n",
              "    <tr>\n",
              "      <th>...</th>\n",
              "      <td>...</td>\n",
              "      <td>...</td>\n",
              "      <td>...</td>\n",
              "      <td>...</td>\n",
              "      <td>...</td>\n",
              "      <td>...</td>\n",
              "      <td>...</td>\n",
              "      <td>...</td>\n",
              "      <td>...</td>\n",
              "      <td>...</td>\n",
              "      <td>...</td>\n",
              "      <td>...</td>\n",
              "      <td>...</td>\n",
              "      <td>...</td>\n",
              "      <td>...</td>\n",
              "      <td>...</td>\n",
              "      <td>...</td>\n",
              "      <td>...</td>\n",
              "      <td>...</td>\n",
              "      <td>...</td>\n",
              "      <td>...</td>\n",
              "      <td>...</td>\n",
              "      <td>...</td>\n",
              "      <td>...</td>\n",
              "      <td>...</td>\n",
              "      <td>...</td>\n",
              "      <td>...</td>\n",
              "      <td>...</td>\n",
              "      <td>...</td>\n",
              "      <td>...</td>\n",
              "      <td>...</td>\n",
              "    </tr>\n",
              "    <tr>\n",
              "      <th>498</th>\n",
              "      <td>18.49</td>\n",
              "      <td>17.52</td>\n",
              "      <td>121.30</td>\n",
              "      <td>1068.0</td>\n",
              "      <td>0.10120</td>\n",
              "      <td>0.13170</td>\n",
              "      <td>0.14910</td>\n",
              "      <td>0.09183</td>\n",
              "      <td>0.1832</td>\n",
              "      <td>0.06697</td>\n",
              "      <td>0.7923</td>\n",
              "      <td>1.0450</td>\n",
              "      <td>4.851</td>\n",
              "      <td>95.77</td>\n",
              "      <td>0.007974</td>\n",
              "      <td>0.03214</td>\n",
              "      <td>0.044350</td>\n",
              "      <td>0.015730</td>\n",
              "      <td>0.01617</td>\n",
              "      <td>0.005255</td>\n",
              "      <td>22.75</td>\n",
              "      <td>22.88</td>\n",
              "      <td>146.40</td>\n",
              "      <td>1600.0</td>\n",
              "      <td>0.1412</td>\n",
              "      <td>0.3089</td>\n",
              "      <td>0.35330</td>\n",
              "      <td>0.16630</td>\n",
              "      <td>0.2510</td>\n",
              "      <td>0.09445</td>\n",
              "      <td>0</td>\n",
              "    </tr>\n",
              "    <tr>\n",
              "      <th>31</th>\n",
              "      <td>11.84</td>\n",
              "      <td>18.70</td>\n",
              "      <td>77.93</td>\n",
              "      <td>440.6</td>\n",
              "      <td>0.11090</td>\n",
              "      <td>0.15160</td>\n",
              "      <td>0.12180</td>\n",
              "      <td>0.05182</td>\n",
              "      <td>0.2301</td>\n",
              "      <td>0.07799</td>\n",
              "      <td>0.4825</td>\n",
              "      <td>1.0300</td>\n",
              "      <td>3.475</td>\n",
              "      <td>41.00</td>\n",
              "      <td>0.005551</td>\n",
              "      <td>0.03414</td>\n",
              "      <td>0.042050</td>\n",
              "      <td>0.010440</td>\n",
              "      <td>0.02273</td>\n",
              "      <td>0.005667</td>\n",
              "      <td>16.82</td>\n",
              "      <td>28.12</td>\n",
              "      <td>119.40</td>\n",
              "      <td>888.7</td>\n",
              "      <td>0.1637</td>\n",
              "      <td>0.5775</td>\n",
              "      <td>0.69560</td>\n",
              "      <td>0.15460</td>\n",
              "      <td>0.4761</td>\n",
              "      <td>0.14020</td>\n",
              "      <td>0</td>\n",
              "    </tr>\n",
              "    <tr>\n",
              "      <th>384</th>\n",
              "      <td>13.28</td>\n",
              "      <td>13.72</td>\n",
              "      <td>85.79</td>\n",
              "      <td>541.8</td>\n",
              "      <td>0.08363</td>\n",
              "      <td>0.08575</td>\n",
              "      <td>0.05077</td>\n",
              "      <td>0.02864</td>\n",
              "      <td>0.1617</td>\n",
              "      <td>0.05594</td>\n",
              "      <td>0.1833</td>\n",
              "      <td>0.5308</td>\n",
              "      <td>1.592</td>\n",
              "      <td>15.26</td>\n",
              "      <td>0.004271</td>\n",
              "      <td>0.02073</td>\n",
              "      <td>0.028280</td>\n",
              "      <td>0.008468</td>\n",
              "      <td>0.01461</td>\n",
              "      <td>0.002613</td>\n",
              "      <td>14.24</td>\n",
              "      <td>17.37</td>\n",
              "      <td>96.59</td>\n",
              "      <td>623.7</td>\n",
              "      <td>0.1166</td>\n",
              "      <td>0.2685</td>\n",
              "      <td>0.28660</td>\n",
              "      <td>0.09173</td>\n",
              "      <td>0.2736</td>\n",
              "      <td>0.07320</td>\n",
              "      <td>1</td>\n",
              "    </tr>\n",
              "    <tr>\n",
              "      <th>377</th>\n",
              "      <td>13.46</td>\n",
              "      <td>28.21</td>\n",
              "      <td>85.89</td>\n",
              "      <td>562.1</td>\n",
              "      <td>0.07517</td>\n",
              "      <td>0.04726</td>\n",
              "      <td>0.01271</td>\n",
              "      <td>0.01117</td>\n",
              "      <td>0.1421</td>\n",
              "      <td>0.05763</td>\n",
              "      <td>0.1689</td>\n",
              "      <td>1.1500</td>\n",
              "      <td>1.400</td>\n",
              "      <td>14.91</td>\n",
              "      <td>0.004942</td>\n",
              "      <td>0.01203</td>\n",
              "      <td>0.007508</td>\n",
              "      <td>0.005179</td>\n",
              "      <td>0.01442</td>\n",
              "      <td>0.001684</td>\n",
              "      <td>14.69</td>\n",
              "      <td>35.63</td>\n",
              "      <td>97.11</td>\n",
              "      <td>680.6</td>\n",
              "      <td>0.1108</td>\n",
              "      <td>0.1457</td>\n",
              "      <td>0.07934</td>\n",
              "      <td>0.05781</td>\n",
              "      <td>0.2694</td>\n",
              "      <td>0.07061</td>\n",
              "      <td>1</td>\n",
              "    </tr>\n",
              "    <tr>\n",
              "      <th>523</th>\n",
              "      <td>13.71</td>\n",
              "      <td>18.68</td>\n",
              "      <td>88.73</td>\n",
              "      <td>571.0</td>\n",
              "      <td>0.09916</td>\n",
              "      <td>0.10700</td>\n",
              "      <td>0.05385</td>\n",
              "      <td>0.03783</td>\n",
              "      <td>0.1714</td>\n",
              "      <td>0.06843</td>\n",
              "      <td>0.3191</td>\n",
              "      <td>1.2490</td>\n",
              "      <td>2.284</td>\n",
              "      <td>26.45</td>\n",
              "      <td>0.006739</td>\n",
              "      <td>0.02251</td>\n",
              "      <td>0.020860</td>\n",
              "      <td>0.013520</td>\n",
              "      <td>0.01870</td>\n",
              "      <td>0.003747</td>\n",
              "      <td>15.11</td>\n",
              "      <td>25.63</td>\n",
              "      <td>99.43</td>\n",
              "      <td>701.9</td>\n",
              "      <td>0.1425</td>\n",
              "      <td>0.2566</td>\n",
              "      <td>0.19350</td>\n",
              "      <td>0.12840</td>\n",
              "      <td>0.2849</td>\n",
              "      <td>0.09031</td>\n",
              "      <td>1</td>\n",
              "    </tr>\n",
              "  </tbody>\n",
              "</table>\n",
              "<p>569 rows × 31 columns</p>\n",
              "</div>"
            ],
            "text/plain": [
              "     mean radius  mean texture  ...  worst fractal dimension  target\n",
              "388        11.27         15.50  ...                  0.10430       1\n",
              "115        11.93         21.53  ...                  0.08541       1\n",
              "438        13.85         19.60  ...                  0.06911       1\n",
              "552        12.77         29.43  ...                  0.06484       1\n",
              "91         15.37         22.76  ...                  0.06828       0\n",
              "..           ...           ...  ...                      ...     ...\n",
              "498        18.49         17.52  ...                  0.09445       0\n",
              "31         11.84         18.70  ...                  0.14020       0\n",
              "384        13.28         13.72  ...                  0.07320       1\n",
              "377        13.46         28.21  ...                  0.07061       1\n",
              "523        13.71         18.68  ...                  0.09031       1\n",
              "\n",
              "[569 rows x 31 columns]"
            ]
          },
          "metadata": {},
          "execution_count": 13
        }
      ]
    },
    {
      "cell_type": "code",
      "metadata": {
        "id": "rAkyZLXuAKBv"
      },
      "source": [
        "feature = df.values[:,:30]                                                      # changing the feature to shuffled feature\n",
        "label = df.values[:,30:]                                                        # changing the label to shuffled label"
      ],
      "execution_count": 14,
      "outputs": []
    },
    {
      "cell_type": "markdown",
      "metadata": {
        "id": "3IJQ8ggwuij1"
      },
      "source": [
        "### Changing the scale of the data features"
      ]
    },
    {
      "cell_type": "code",
      "metadata": {
        "id": "it_kYsQ5vHgN"
      },
      "source": [
        "scale = StandardScaler()                                                        # instantiating the StandardScaler function as scale\n",
        "feature = scale.fit_transform(feature)                                          # changing the values of the features to a particular range"
      ],
      "execution_count": 15,
      "outputs": []
    },
    {
      "cell_type": "code",
      "metadata": {
        "colab": {
          "base_uri": "https://localhost:8080/"
        },
        "id": "waCchKir2wzR",
        "outputId": "dd40d3ba-7f0a-4abd-b88c-a4408a070b43"
      },
      "source": [
        "j=0                                                                             # printing the processed values of the first instance with their corresponding feature names \n",
        "for i in data['feature_names']:\n",
        "  print(i,\":\" , feature[0][j])\n",
        "  j += 1"
      ],
      "execution_count": 16,
      "outputs": [
        {
          "output_type": "stream",
          "name": "stdout",
          "text": [
            "mean radius : -0.8115114166826678\n",
            "mean texture : -0.8818766459501768\n",
            "mean perimeter : -0.7656860076570489\n",
            "mean area : -0.747683586904543\n",
            "mean smoothness : -0.9045327785782015\n",
            "mean compactness : 0.13377879292026043\n",
            "mean concavity : 0.1494127460085422\n",
            "mean concave points : -0.5506794912926888\n",
            "mean symmetry : -0.005909523496798196\n",
            "mean fractal dimension : 1.378249973695418\n",
            "radius error : -0.269507133596133\n",
            "texture error : -0.2718856508801749\n",
            "perimeter error : -0.14705341040655623\n",
            "area error : -0.382105431342041\n",
            "smoothness error : 1.1130521577922077\n",
            "compactness error : 2.3033119393758033\n",
            "concavity error : 2.0831325283710678\n",
            "concave points error : 1.4069844030723981\n",
            "symmetry error : -1.0112838363350205\n",
            "fractal dimension error : 3.2284115674408445\n",
            "worst radius : -0.8757913250155224\n",
            "worst texture : -1.0987434074391706\n",
            "worst perimeter : -0.8200402516581248\n",
            "worst area : -0.75692755442657\n",
            "worst smoothness : -0.9717800789826759\n",
            "worst compactness : 0.1694355340002532\n",
            "worst concavity : 0.1435012050859913\n",
            "worst concave points : -0.48551868278237853\n",
            "worst symmetry : -1.2032335701237487\n",
            "worst fractal dimension : 1.1279436773972369\n"
          ]
        }
      ]
    },
    {
      "cell_type": "markdown",
      "metadata": {
        "id": "DBd7nXfWutjd"
      },
      "source": [
        "### Dividing the data for training , testing and validation"
      ]
    },
    {
      "cell_type": "code",
      "metadata": {
        "id": "rSpyYIhd6rJW"
      },
      "source": [
        "# 500 training samples\n",
        "X_train = feature[:500]                                                         \n",
        "Y_train = label[:500]\n",
        "\n",
        "# 35 Validation samples\n",
        "X_val = feature[500:535]\n",
        "Y_val = label[500:535]\n",
        "\n",
        "# 34 Testing samples\n",
        "X_test = feature[535:]\n",
        "Y_test = label[535:]"
      ],
      "execution_count": 17,
      "outputs": []
    },
    {
      "cell_type": "markdown",
      "metadata": {
        "id": "htXQ96iBwox7"
      },
      "source": [
        "### Training the model"
      ]
    },
    {
      "cell_type": "code",
      "metadata": {
        "id": "y5smAg-78e0x"
      },
      "source": [
        "model = Sequential()\n",
        "\n",
        "model.add(Dense(64 , activation = 'relu' , input_dim =30))\n",
        "model.add(Dense(32 , activation = 'relu'))\n",
        "model.add(Dense(16 , activation = 'relu'))\n",
        "model.add(Dense(1 , activation = 'sigmoid'))\n",
        "\n",
        "model.compile(loss='binary_crossentropy' , optimizer='adam' , metrics=['accuracy'])"
      ],
      "execution_count": 32,
      "outputs": []
    },
    {
      "cell_type": "code",
      "metadata": {
        "id": "6H7-JG0TStq9",
        "colab": {
          "base_uri": "https://localhost:8080/"
        },
        "outputId": "13dc5597-64e5-471f-ea6c-66fa1a8ad6df"
      },
      "source": [
        "model.fit( X_train , Y_train , batch_size = 1 , epochs = 10 , validation_data = (X_val , Y_val))"
      ],
      "execution_count": 33,
      "outputs": [
        {
          "output_type": "stream",
          "name": "stdout",
          "text": [
            "Epoch 1/10\n",
            "500/500 [==============================] - 1s 2ms/step - loss: 0.1622 - accuracy: 0.9340 - val_loss: 0.3074 - val_accuracy: 0.9143\n",
            "Epoch 2/10\n",
            "500/500 [==============================] - 1s 2ms/step - loss: 0.0607 - accuracy: 0.9780 - val_loss: 0.3128 - val_accuracy: 0.9429\n",
            "Epoch 3/10\n",
            "500/500 [==============================] - 1s 2ms/step - loss: 0.0410 - accuracy: 0.9880 - val_loss: 0.3862 - val_accuracy: 0.9143\n",
            "Epoch 4/10\n",
            "500/500 [==============================] - 1s 2ms/step - loss: 0.0302 - accuracy: 0.9900 - val_loss: 0.3844 - val_accuracy: 0.9143\n",
            "Epoch 5/10\n",
            "500/500 [==============================] - 1s 2ms/step - loss: 0.0236 - accuracy: 0.9920 - val_loss: 0.4150 - val_accuracy: 0.9429\n",
            "Epoch 6/10\n",
            "500/500 [==============================] - 1s 2ms/step - loss: 0.0121 - accuracy: 0.9980 - val_loss: 0.5233 - val_accuracy: 0.9143\n",
            "Epoch 7/10\n",
            "500/500 [==============================] - 1s 2ms/step - loss: 0.0153 - accuracy: 0.9940 - val_loss: 0.5521 - val_accuracy: 0.9143\n",
            "Epoch 8/10\n",
            "500/500 [==============================] - 1s 2ms/step - loss: 0.0189 - accuracy: 0.9940 - val_loss: 0.5913 - val_accuracy: 0.9143\n",
            "Epoch 9/10\n",
            "500/500 [==============================] - 1s 2ms/step - loss: 0.0112 - accuracy: 0.9960 - val_loss: 0.6179 - val_accuracy: 0.9143\n",
            "Epoch 10/10\n",
            "500/500 [==============================] - 1s 2ms/step - loss: 0.0087 - accuracy: 0.9980 - val_loss: 0.5504 - val_accuracy: 0.9143\n"
          ]
        },
        {
          "output_type": "execute_result",
          "data": {
            "text/plain": [
              "<keras.callbacks.History at 0x7f18cc2e8a10>"
            ]
          },
          "metadata": {},
          "execution_count": 33
        }
      ]
    },
    {
      "cell_type": "code",
      "metadata": {
        "id": "63Ev8-xc8e3b",
        "colab": {
          "base_uri": "https://localhost:8080/"
        },
        "outputId": "51fbefa1-7bd0-4f1c-f409-21b6e3fa2758"
      },
      "source": [
        "model.evaluate(X_test,Y_test)                                                   # printing out the loss and accuracy of testing data"
      ],
      "execution_count": 34,
      "outputs": [
        {
          "output_type": "stream",
          "name": "stdout",
          "text": [
            "2/2 [==============================] - 0s 8ms/step - loss: 0.0075 - accuracy: 1.0000\n"
          ]
        },
        {
          "output_type": "execute_result",
          "data": {
            "text/plain": [
              "[0.007466648239642382, 1.0]"
            ]
          },
          "metadata": {},
          "execution_count": 34
        }
      ]
    },
    {
      "cell_type": "code",
      "metadata": {
        "colab": {
          "base_uri": "https://localhost:8080/"
        },
        "id": "z-pKgaTUxCji",
        "outputId": "c5abf4fe-1d5c-448a-8210-7cc05fc8869f"
      },
      "source": [
        "model.evaluate(X_val,Y_val)                                                     # printing out the loss and accuracy of validation data"
      ],
      "execution_count": 35,
      "outputs": [
        {
          "output_type": "stream",
          "name": "stdout",
          "text": [
            "2/2 [==============================] - 0s 7ms/step - loss: 0.5504 - accuracy: 0.9143\n"
          ]
        },
        {
          "output_type": "execute_result",
          "data": {
            "text/plain": [
              "[0.5503902435302734, 0.9142857193946838]"
            ]
          },
          "metadata": {},
          "execution_count": 35
        }
      ]
    },
    {
      "cell_type": "markdown",
      "metadata": {
        "id": "voIKiMEr9NsE"
      },
      "source": [
        "### Testing whether the actual and the predicted values are same or not"
      ]
    },
    {
      "cell_type": "code",
      "metadata": {
        "id": "8AnLMMi88e51",
        "colab": {
          "base_uri": "https://localhost:8080/"
        },
        "outputId": "1c90ce2d-a7d0-438e-e0a1-846faad6f9dc"
      },
      "source": [
        "for i in range(34):\n",
        "  sample = X_val[i]\n",
        "  sample = np.reshape(sample , (1,30))\n",
        "  if model.predict(sample)[0][0] > 0.5:\n",
        "    print('Predicted tumor : Benign')\n",
        "  else:\n",
        "    print('Predicted tumor : Malignant')\n",
        "\n",
        "  if Y_val[i] == 0:\n",
        "    print('Actual tumor : Malignant')\n",
        "  else:\n",
        "    print('Actual tumor : Benign')\n",
        "  print('-----------------------')"
      ],
      "execution_count": 22,
      "outputs": [
        {
          "output_type": "stream",
          "name": "stdout",
          "text": [
            "Predicted tumor : Benign\n",
            "Actual tumor : Benign\n",
            "-----------------------\n",
            "Predicted tumor : Benign\n",
            "Actual tumor : Benign\n",
            "-----------------------\n",
            "Predicted tumor : Benign\n",
            "Actual tumor : Benign\n",
            "-----------------------\n",
            "Predicted tumor : Benign\n",
            "Actual tumor : Benign\n",
            "-----------------------\n",
            "Predicted tumor : Benign\n",
            "Actual tumor : Benign\n",
            "-----------------------\n",
            "Predicted tumor : Benign\n",
            "Actual tumor : Benign\n",
            "-----------------------\n",
            "Predicted tumor : Benign\n",
            "Actual tumor : Benign\n",
            "-----------------------\n",
            "Predicted tumor : Benign\n",
            "Actual tumor : Benign\n",
            "-----------------------\n",
            "Predicted tumor : Malignant\n",
            "Actual tumor : Malignant\n",
            "-----------------------\n",
            "Predicted tumor : Malignant\n",
            "Actual tumor : Benign\n",
            "-----------------------\n",
            "Predicted tumor : Malignant\n",
            "Actual tumor : Benign\n",
            "-----------------------\n",
            "Predicted tumor : Benign\n",
            "Actual tumor : Benign\n",
            "-----------------------\n",
            "Predicted tumor : Benign\n",
            "Actual tumor : Benign\n",
            "-----------------------\n",
            "Predicted tumor : Malignant\n",
            "Actual tumor : Malignant\n",
            "-----------------------\n",
            "Predicted tumor : Malignant\n",
            "Actual tumor : Malignant\n",
            "-----------------------\n",
            "Predicted tumor : Malignant\n",
            "Actual tumor : Malignant\n",
            "-----------------------\n",
            "Predicted tumor : Malignant\n",
            "Actual tumor : Malignant\n",
            "-----------------------\n",
            "Predicted tumor : Malignant\n",
            "Actual tumor : Malignant\n",
            "-----------------------\n",
            "Predicted tumor : Malignant\n",
            "Actual tumor : Malignant\n",
            "-----------------------\n",
            "Predicted tumor : Benign\n",
            "Actual tumor : Benign\n",
            "-----------------------\n",
            "Predicted tumor : Benign\n",
            "Actual tumor : Benign\n",
            "-----------------------\n",
            "Predicted tumor : Malignant\n",
            "Actual tumor : Malignant\n",
            "-----------------------\n",
            "Predicted tumor : Benign\n",
            "Actual tumor : Malignant\n",
            "-----------------------\n",
            "Predicted tumor : Benign\n",
            "Actual tumor : Benign\n",
            "-----------------------\n",
            "Predicted tumor : Malignant\n",
            "Actual tumor : Malignant\n",
            "-----------------------\n",
            "Predicted tumor : Malignant\n",
            "Actual tumor : Malignant\n",
            "-----------------------\n",
            "Predicted tumor : Benign\n",
            "Actual tumor : Benign\n",
            "-----------------------\n",
            "Predicted tumor : Malignant\n",
            "Actual tumor : Malignant\n",
            "-----------------------\n",
            "Predicted tumor : Benign\n",
            "Actual tumor : Benign\n",
            "-----------------------\n",
            "Predicted tumor : Benign\n",
            "Actual tumor : Benign\n",
            "-----------------------\n",
            "Predicted tumor : Malignant\n",
            "Actual tumor : Malignant\n",
            "-----------------------\n",
            "Predicted tumor : Benign\n",
            "Actual tumor : Malignant\n",
            "-----------------------\n",
            "Predicted tumor : Malignant\n",
            "Actual tumor : Malignant\n",
            "-----------------------\n",
            "Predicted tumor : Malignant\n",
            "Actual tumor : Malignant\n",
            "-----------------------\n"
          ]
        }
      ]
    },
    {
      "cell_type": "markdown",
      "metadata": {
        "id": "ZMOYLZVRjyG1"
      },
      "source": [
        "### Checking how many predicted values are same as of the actual values in case of training , validation and testing"
      ]
    },
    {
      "cell_type": "code",
      "metadata": {
        "colab": {
          "base_uri": "https://localhost:8080/"
        },
        "id": "Ar8YGxg6gkbz",
        "outputId": "f768c07c-1dfe-4262-ef79-d3f5f1999968"
      },
      "source": [
        "# Training dataset checking\n",
        "j = 0\n",
        "for i in range(500):\n",
        "  sample = X_train[i]\n",
        "  sample = np.reshape(sample , (1,30))\n",
        "  if ((model.predict(sample)[0][0]) > 0.5 and (Y_train[i] == 1) or (model.predict(sample)[0][0]) <= 0.5 and (Y_train[i] == 0)):\n",
        "    j += 1\n",
        "print(j,'/',len(Y_train))"
      ],
      "execution_count": 24,
      "outputs": [
        {
          "output_type": "stream",
          "name": "stdout",
          "text": [
            "498 / 500\n"
          ]
        }
      ]
    },
    {
      "cell_type": "code",
      "metadata": {
        "colab": {
          "base_uri": "https://localhost:8080/"
        },
        "id": "46wkJGALjACn",
        "outputId": "f566a612-1ba4-470a-d8b4-501ced8159cc"
      },
      "source": [
        "# Validation dataset checking\n",
        "j = 0\n",
        "for i in range(35):\n",
        "  sample = X_val[i]\n",
        "  sample = np.reshape(sample , (1,30))\n",
        "  if ((model.predict(sample)[0][0]) > 0.5 and (Y_val[i] == 1) or (model.predict(sample)[0][0]) <= 0.5 and (Y_val[i] == 0)):\n",
        "    j += 1\n",
        "print(j,'/',len(Y_val))"
      ],
      "execution_count": 25,
      "outputs": [
        {
          "output_type": "stream",
          "name": "stdout",
          "text": [
            "31 / 35\n"
          ]
        }
      ]
    },
    {
      "cell_type": "code",
      "metadata": {
        "colab": {
          "base_uri": "https://localhost:8080/"
        },
        "id": "oZY2GwlOjANE",
        "outputId": "de1c46a1-b53d-4570-d6fc-55d42f69ddc0"
      },
      "source": [
        "# Testing dataset checking\n",
        "j = 0\n",
        "for i in range(34):\n",
        "  sample = X_test[i]\n",
        "  sample = np.reshape(sample , (1,30))\n",
        "  if ((model.predict(sample)[0][0]) > 0.5 and (Y_test[i] == 1) or (model.predict(sample)[0][0]) <= 0.5 and (Y_test[i] == 0)):\n",
        "    j += 1\n",
        "print(j,'/',len(Y_test))"
      ],
      "execution_count": 27,
      "outputs": [
        {
          "output_type": "stream",
          "name": "stdout",
          "text": [
            "34 / 34\n"
          ]
        }
      ]
    }
  ]
}